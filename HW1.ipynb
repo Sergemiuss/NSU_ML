{
  "nbformat": 4,
  "nbformat_minor": 0,
  "metadata": {
    "colab": {
      "provenance": [],
      "authorship_tag": "ABX9TyOa3Oluocz1swoUxLge9fOM",
      "include_colab_link": true
    },
    "kernelspec": {
      "name": "python3",
      "display_name": "Python 3"
    },
    "language_info": {
      "name": "python"
    }
  },
  "cells": [
    {
      "cell_type": "markdown",
      "metadata": {
        "id": "view-in-github",
        "colab_type": "text"
      },
      "source": [
        "<a href=\"https://colab.research.google.com/github/Sergemiuss/NSU_ML/blob/main/HW1.ipynb\" target=\"_parent\"><img src=\"https://colab.research.google.com/assets/colab-badge.svg\" alt=\"Open In Colab\"/></a>"
      ]
    },
    {
      "cell_type": "markdown",
      "source": [
        "# 1) Вспомнить всё: if\n",
        "Напишите программу, которая считывает температуру в градусах Цельсия и выводит \"ХОЛОДНО\", если температура меньше 15.5, \"ЖАРКО\", если температура больше 28, и \"НОРМАЛЬНО\" в остальных случаях.\n"
      ],
      "metadata": {
        "id": "ynvqfXP_nLWc"
      }
    },
    {
      "cell_type": "markdown",
      "source": [
        "## Формат ввода\n",
        "Одно число с плавающей точкой — температура.\n",
        "## Формат вывода\n",
        "Одна строка — ответ на задачу.\n",
        ">### Пример 1\n",
        "    Ввод\t28.6\n",
        "    Вывод\tЖАРКО\n",
        ">### Пример 2\n",
        "    Ввод\t28\n",
        "    Вывод\tНОРМАЛЬНО"
      ],
      "metadata": {
        "id": "upsOurAjrZXi"
      }
    },
    {
      "cell_type": "code",
      "execution_count": null,
      "metadata": {
        "colab": {
          "base_uri": "https://localhost:8080/"
        },
        "id": "5hP3LPUTl-uf",
        "outputId": "2cecd932-4f65-40dd-aebf-2e786daf8fcb"
      },
      "outputs": [
        {
          "output_type": "stream",
          "name": "stdout",
          "text": [
            "30\n",
            "ЖАРКО\n"
          ]
        }
      ],
      "source": [
        "temp = float(input())\n",
        "if temp < 15.5:\n",
        "  print(\"ХОЛОДНО\")\n",
        "elif temp > 28:\n",
        "  print(\"ЖАРКО\")\n",
        "else: print(\"НОРМАЛЬНО\")"
      ]
    },
    {
      "cell_type": "markdown",
      "source": [
        "#2)Найди кота\n",
        "Напишите программу, которая находит кота. Пользователь вводит сначала количество строк, потом сами строки. Если хотя бы в одной введённой строке нашлось сочетание букв «Кот» или «кот», программа выводит «МЯУ», иначе программа выводит «НЕТ»."
      ],
      "metadata": {
        "id": "BUgqRQKhpvhO"
      }
    },
    {
      "cell_type": "markdown",
      "source": [
        "##Формат ввода\n",
        "В первой строке записано число n.\n",
        "Далее следует n строк.\n",
        "##Формат вывода\n",
        "Напечатайте нужное сообщение в зависимости от того, есть во введенных строчках кот или нет.\n",
        "###Пример\n",
        ">Ввод\n",
        "```\n",
        "    4\n",
        "    Как устроен типичный фрукт:\n",
        "    кожура;\n",
        "    мякоть;\n",
        "    косточки.\n",
        "```\n",
        "Вывод\n",
        "```\n",
        "    МЯУ\n",
        "```"
      ],
      "metadata": {
        "id": "SWf7T2fjrFZd"
      }
    },
    {
      "cell_type": "code",
      "source": [
        "n = int(input())\n",
        "cat = False\n",
        "for i in range(n):\n",
        "  w = input()\n",
        "  if (\"Кот\" in w) or (\"кот\" in w): cat = True\n",
        "if cat: print(\"МЯУ\")"
      ],
      "metadata": {
        "colab": {
          "base_uri": "https://localhost:8080/"
        },
        "id": "r9ZwUcUerADw",
        "outputId": "38346b9c-9f5c-44d3-d3de-6374fd1df722"
      },
      "execution_count": null,
      "outputs": [
        {
          "output_type": "stream",
          "name": "stdout",
          "text": [
            "4\n",
            "Как устроен типичный фрукт:\n",
            "кожура;\n",
            "мякоть;\n",
            "косточки.\n",
            "МЯУ\n"
          ]
        }
      ]
    },
    {
      "cell_type": "markdown",
      "source": [
        "#3)Слова и буквы\n",
        "Напишите программу, которая считывает слова, слово «стоп» — сигнал остановки (оно не должно принимать участие в анализе). Из введённых слов нужно выбрать самое длинное и самое короткое (гарантируется, что все они имеют разную длину) и проверить, есть ли все буквы короткого слова в длинном. Вывести «ДА» или «НЕТ» в зависимости от этого."
      ],
      "metadata": {
        "id": "Eo6HMOg1ri9v"
      }
    },
    {
      "cell_type": "markdown",
      "source": [
        "##Формат ввода\n",
        "Слова разной длины, из которых нужно выбрать кратчайшее и длиннейшее.\n",
        "После этих слов следует слово «стоп».\n",
        "##Формат вывода\n",
        "ДА или НЕТ\n",
        "###Пример 1\n",
        ">Ввод\n",
        "```\n",
        "грот\n",
        "вигвам\n",
        "гаррота\n",
        "стоп\n",
        "```\n",
        "Вывод\n",
        "```\n",
        "ДА\n",
        "```\n",
        "###Пример 2\n",
        ">Ввод\n",
        "```\n",
        "чаепитие\n",
        "чашка\n",
        "печенье\n",
        "стоп\n",
        "```\n",
        "Вывод\n",
        "```\n",
        "НЕТ\n",
        "```\n",
        "###Пример 3\n",
        ">Ввод\n",
        "```\n",
        "чечевица\n",
        "светопреставление\n",
        "престол\n",
        "стоп\n",
        "```\n",
        "Вывод\n",
        "```\n",
        "ДА\n",
        "```"
      ],
      "metadata": {
        "id": "5PLQH4WzzLQw"
      }
    },
    {
      "cell_type": "code",
      "source": [
        "lW = \"\";\n",
        "sW = \"\";\n",
        "while True:\n",
        "  w = input();\n",
        "  if \"стоп\" in w:\n",
        "    break\n",
        "  elif (len(lW) == 0) and (len(sW) == 0):\n",
        "    lW = w;\n",
        "    sW = w;\n",
        "  if len(lW) < len(w): lW = w\n",
        "  if len(sW) > len(w): sW = w\n",
        "isABC = False\n",
        "for i in range(len(sW)):\n",
        "  if sW[i] in lW:\n",
        "    isABC = True\n",
        "  else:\n",
        "    isABC = False\n",
        "    break\n",
        "print(\"ДА\") if isABC else print(\"НЕТ\")"
      ],
      "metadata": {
        "colab": {
          "base_uri": "https://localhost:8080/"
        },
        "id": "GldRRK-70GEo",
        "outputId": "46fe8bf5-2ab4-43b9-cae5-510c27e02dfe"
      },
      "execution_count": null,
      "outputs": [
        {
          "output_type": "stream",
          "name": "stdout",
          "text": [
            "чечевица\n",
            "светопреставление\n",
            "престол\n",
            "стоп\n",
            "ДА\n"
          ]
        }
      ]
    },
    {
      "cell_type": "markdown",
      "source": [
        "#4)Список покупок\n",
        "Вы собираетесь в магазин и записываете, что нужно купить.\n",
        "Напишите программу, которая считывает сначала количество покупок, потом по очереди сами эти покупки, затем выводит их же в том же порядке."
      ],
      "metadata": {
        "id": "GHSUl_AQzMaB"
      }
    },
    {
      "cell_type": "markdown",
      "source": [
        "##Формат ввода\n",
        "На первой строке — количество покупок.\n",
        "Затем список покупок, каждая позиция списка на отдельной строке.\n",
        "##Формат вывода\n",
        "Тот же самый список покупок.\n",
        "###Пример\n",
        ">Ввод\n",
        "```\n",
        "4\n",
        "картину\n",
        "корзину\n",
        "картонку\n",
        "маленькую собачонку\n",
        "```\n",
        "Вывод\n",
        "```\n",
        "картину\n",
        "корзину\n",
        "картонку\n",
        "маленькую собачонку\n",
        "```"
      ],
      "metadata": {
        "id": "E9xC7ohe6_Jj"
      }
    },
    {
      "cell_type": "code",
      "source": [
        "n = int(input())\n",
        "buyList = list();\n",
        "for i in range(n):\n",
        "  buyList.append(input())\n",
        "for x in buyList: print(x)"
      ],
      "metadata": {
        "colab": {
          "base_uri": "https://localhost:8080/"
        },
        "id": "alJkEuU37Sgr",
        "outputId": "3bbfd74c-2a64-4349-da80-47960400f867"
      },
      "execution_count": null,
      "outputs": [
        {
          "output_type": "stream",
          "name": "stdout",
          "text": [
            "4\n",
            "картину\n",
            "корзину\n",
            "картонку\n",
            "маленькую собачонку\n",
            "картину\n",
            "корзину\n",
            "картонку\n",
            "маленькую собачонку\n"
          ]
        }
      ]
    },
    {
      "cell_type": "markdown",
      "source": [
        "#5)Ххооллоодд\n",
        "Очень холодно, вы дрожите, зуб на зуб не попадает, разговариваете соответственно."
      ],
      "metadata": {
        "id": "lgcD6GdhzVe7"
      }
    },
    {
      "cell_type": "markdown",
      "source": [
        "##Формат ввода\n",
        "Вводится одна строка.\n",
        "##Формат вывода\n",
        "Выводится та же строка, но каждый символ повторяется дважды.\n",
        "###Пример\n",
        ">Ввод\n",
        "```\n",
        "Холодно\n",
        "```\n",
        "Вывод\n",
        "```\n",
        "ХХооллоодднноо\n",
        "```"
      ],
      "metadata": {
        "id": "7Ogrrl6A8mxE"
      }
    },
    {
      "cell_type": "code",
      "source": [
        "w = input(w)\n",
        "newW = \"\"\n",
        "for c in w:\n",
        "  newW += c + c;\n",
        "print(newW)"
      ],
      "metadata": {
        "colab": {
          "base_uri": "https://localhost:8080/"
        },
        "id": "JvCn9h9q86A1",
        "outputId": "0149d311-f66c-4e00-d7a4-91927002dd90"
      },
      "execution_count": null,
      "outputs": [
        {
          "output_type": "stream",
          "name": "stdout",
          "text": [
            "Холодно\n",
            "ХХооллоодднноо\n"
          ]
        }
      ]
    },
    {
      "cell_type": "markdown",
      "source": [
        "#6)Формальное приветствие\n",
        "Напишите функцию **greet()**, чтобы она спрашивала у пользователя имя и фамилию (каждое на отдельной строке), а затем выводила официальное приветствие в форме “Здравствуйте, {**имя**} {**фамилия**}.”."
      ],
      "metadata": {
        "id": "g3Sjx29ezZUT"
      }
    },
    {
      "cell_type": "markdown",
      "source": [
        "##Формат ввода\n",
        "```\n",
        "Иван\n",
        "Смирнов\n",
        "```\n",
        "##Формат вывода\n",
        "Здравствуйте, Иван Смирнов.\n"
      ],
      "metadata": {
        "id": "CjRD9AqbB3Uh"
      }
    },
    {
      "cell_type": "code",
      "source": [
        "def greet():\n",
        "  name = input()\n",
        "  surname = input()\n",
        "  print(\"Здравствуйте, {0} {1}\".format(name, surname))\n",
        "\n",
        "greet()"
      ],
      "metadata": {
        "colab": {
          "base_uri": "https://localhost:8080/"
        },
        "id": "8r8bn9TOChhQ",
        "outputId": "57db688a-b401-4168-b5b3-3a5764b7430a"
      },
      "execution_count": null,
      "outputs": [
        {
          "output_type": "stream",
          "name": "stdout",
          "text": [
            "Иван\n",
            "Смирнов\n",
            "Здравствуйте, Иван Смирнов\n"
          ]
        }
      ]
    },
    {
      "cell_type": "markdown",
      "source": [
        "#7*)Маленький колокольчик\n",
        "Написать класс LittleBell, который при вызове метода sound печатает слово ding"
      ],
      "metadata": {
        "id": "_4cmHTjYzdCc"
      }
    },
    {
      "cell_type": "markdown",
      "source": [
        "##Формат ввода\n",
        "Каждый тест представляет собой код, в котором будет использоваться ваш класс. Файл c решением не обязательно называть solution.py, он будет переименован автоматически. Тест запускается с вашим классом, а его вывод сравнивается с правильным решением.\n",
        "###Пример 1\n",
        ">Ввод\n",
        "```\n",
        "  from solution import LittleBell\n",
        "  bell = LittleBell()\n",
        "  bell.sound()\n",
        "```\n",
        "Вывод\n",
        "```\n",
        "  ding\n",
        "```\n",
        "###Пример 2\n",
        ">Ввод\n",
        "```\n",
        "  from solution import LittleBell\n",
        "  bell = LittleBell()\n",
        "  bell.sound()\n",
        "  bell.sound()\n",
        "  bell.sound()\n",
        "```\n",
        "Вывод\n",
        "```\n",
        "  ding\n",
        "  ding\n",
        "  ding\n",
        "```"
      ],
      "metadata": {
        "id": "3FWEk2sRDVx5"
      }
    },
    {
      "cell_type": "code",
      "source": [
        "class LittleBell:\n",
        "  def sound(self):\n",
        "    print(\"ding\")\n",
        "\n",
        "bell = LittleBell()\n",
        "bell.sound()\n",
        "bell.sound()\n",
        "bell.sound()"
      ],
      "metadata": {
        "colab": {
          "base_uri": "https://localhost:8080/"
        },
        "id": "Ye-9GsgQDWHW",
        "outputId": "90d6fa2d-9f40-486a-c975-632e363a8c3e"
      },
      "execution_count": null,
      "outputs": [
        {
          "output_type": "stream",
          "name": "stdout",
          "text": [
            "ding\n",
            "ding\n",
            "ding\n"
          ]
        }
      ]
    },
    {
      "cell_type": "markdown",
      "source": [
        "#8)Остаточные знания\n",
        "\n",
        "В старшей школе участвовал в олимпиадах по программированию, в основном писал на Java. Есть неплохое понимание Java, когда-то проходил обучение через JavaRush. В настоящее время неплохо разбираюсь в HTML/CSS, немного знаю JS и его модификации (Google Scripts).\n",
        "\n",
        "Python никогда не изучал, сейчас начал разбираться."
      ],
      "metadata": {
        "id": "rysI7_iHzjUa"
      }
    }
  ]
}